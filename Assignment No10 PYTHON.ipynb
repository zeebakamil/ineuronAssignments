{
 "cells": [
  {
   "cell_type": "code",
   "execution_count": 1,
   "id": "991034e3",
   "metadata": {},
   "outputs": [],
   "source": [
    "# Ans:1\n",
    "# shutil.copy() will copy a single file, while shutil.copytree() will copy the entire folder and all the files and folders present in it."
   ]
  },
  {
   "cell_type": "code",
   "execution_count": 2,
   "id": "fb308495",
   "metadata": {},
   "outputs": [],
   "source": [
    "#Ans:2\n",
    "# In python rename() method is used to rename a file. For this we use os.rename() function."
   ]
  },
  {
   "cell_type": "code",
   "execution_count": 3,
   "id": "a17f76bd",
   "metadata": {},
   "outputs": [],
   "source": [
    "#Ans:3\n",
    "# The send2trash function will move a file or folder to the recycle bin, while shutil function will permanently delete files and folders."
   ]
  },
  {
   "cell_type": "code",
   "execution_count": 4,
   "id": "03eee30e",
   "metadata": {},
   "outputs": [],
   "source": [
    "#Ans:4\n",
    "# The zipfile.ZipFile() function is equivalent to the open() function."
   ]
  },
  {
   "cell_type": "code",
   "execution_count": 5,
   "id": "75a2533d",
   "metadata": {},
   "outputs": [
    {
     "name": "stdout",
     "output_type": "stream",
     "text": [
      "D:/Zaina/IGCSE/Biology 595426-2023-2025-syllabus.pdf\n",
      "D:/Zaina/IGCSE/Chemistry 595428-2023-2025-syllabus.pdf\n",
      "D:/Zaina/IGCSE/FL English596961-2023-syllabus.pdf\n",
      "D:/Zaina/IGCSE/Geography 596947-2023-syllabus.pdf\n",
      "D:/Zaina/IGCSE/ICT 595352-2023-2025-syllabus.pdf\n",
      "D:/Zaina/IGCSE/Maths 597037-2023-2024-syllabus.pdf\n",
      "D:/Zaina/IGCSE/Physics 595430-2023-2025-syllabus.pdf\n",
      "Work Done\n"
     ]
    }
   ],
   "source": [
    "#Ans:5\n",
    "import os, shutil\n",
    "\n",
    "folder = \"D:/Zaina/IGCSE/\"\n",
    "\n",
    "def moveFileType(folder):\n",
    "    for folderName , subfolders, filenames in os.walk(folder):\n",
    "#         print (\"Hello1\")\n",
    "        for filename in filenames :\n",
    "#                 print (\"Hello2\")\n",
    "                if filename.endswith('.pdf'):\n",
    "#                     print (\"Hello3\")\n",
    "                    print (folderName+filename)\n",
    "                    shutil.copy(os.path.join(folderName + filename), 'D:/Zaina/IGCSE2/')\n",
    "#                     print (folder+filename)\n",
    "    print(\"Work Done\")\n",
    "#                     shutil.copy(folder + filename, '<destination>')D:\\Zaina\\IGCSE\\IGCSE2\n",
    "                    \n",
    "# moveFileType('<source>')\n",
    "moveFileType(folder)"
   ]
  }
 ],
 "metadata": {
  "kernelspec": {
   "display_name": "Python 3 (ipykernel)",
   "language": "python",
   "name": "python3"
  },
  "language_info": {
   "codemirror_mode": {
    "name": "ipython",
    "version": 3
   },
   "file_extension": ".py",
   "mimetype": "text/x-python",
   "name": "python",
   "nbconvert_exporter": "python",
   "pygments_lexer": "ipython3",
   "version": "3.9.12"
  }
 },
 "nbformat": 4,
 "nbformat_minor": 5
}
